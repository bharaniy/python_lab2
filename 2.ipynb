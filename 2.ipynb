{
  "nbformat": 4,
  "nbformat_minor": 0,
  "metadata": {
    "colab": {
      "name": "2.ipynb",
      "provenance": [],
      "collapsed_sections": [],
      "mount_file_id": "1c8JLky4WBiDJmnBkOEvx5xjc1d3midAM",
      "authorship_tag": "ABX9TyP+HxZoytYoHk9tiOBfehlO"
    },
    "kernelspec": {
      "name": "python3",
      "display_name": "Python 3"
    }
  },
  "cells": [
    {
      "cell_type": "code",
      "metadata": {
        "id": "JpYHNxvLbiA2",
        "colab_type": "code",
        "outputId": "c2f89c9b-c983-4b52-99e6-3a1ff98685a4",
        "colab": {
          "base_uri": "https://localhost:8080/",
          "height": 768
        }
      },
      "source": [
        "import numpy as np\n",
        "import pandas as pd\n",
        "import keras_metrics\n",
        "from sklearn.model_selection import train_test_split\n",
        "from keras.models import Sequential\n",
        "from keras.layers.core import Dense, Dropout, Activation\n",
        "from keras.optimizers import Adam\n",
        "from keras.optimizers import SGD\n",
        "from keras.utils import np_utils\n",
        "from keras import regularizers\n",
        "\n",
        "\n",
        "\n",
        "ds = pd.read_csv(\"/content/drive/My Drive/heart.csv\", sep=',')\n",
        "ds.astype(float)\n",
        "\n",
        "# Normalize values to range [0:1]\n",
        "ds /= ds.max()\n",
        "\n",
        "# split data into features & target columns\n",
        "x= ds.drop(columns = 'target')\n",
        "y = ds['target']\n",
        "\n",
        "x_trn, x_tt, y_trn, y_tt = train_test_split(x, y, train_size = 0.75, test_size = 0.25)\n",
        "y_trn = np_utils.to_categorical(y_trn, 2)\n",
        "y_tt = np_utils.to_categorical(y_tt, 2)\n",
        "\n",
        "\n",
        "# Creating the model\n",
        "model = Sequential()\n",
        "model.add(Dense(1024, input_shape=(13,), kernel_regularizer = regularizers.l2( 0.01)))\n",
        "model.add(Activation('relu'))\n",
        "model.add(Dropout(0.5))\n",
        "model.add(Dense(1024))\n",
        "model.add(Activation('tanh'))\n",
        "model.add(Dropout(0.5))\n",
        "model.add(Dense(1024))\n",
        "model.add(Activation('relu'))\n",
        "model.add(Dropout(0.5))\n",
        "model.add(Dense(2))\n",
        "model.add(Activation('softmax'))\n",
        "model.summary()\n",
        "\n",
        "# compile the model\n",
        "model.compile(loss='categorical_crossentropy', optimizer=SGD(), metrics=['accuracy', keras_metrics.precision(), keras_metrics.recall()])\n",
        "\n",
        "# train the model\n",
        "from keras.callbacks import TensorBoard\n",
        "cb = TensorBoard(log_dir='./Logistic_Graph_Optimizer', histogram_freq=1, write_graph=True, write_grads=True, batch_size=256, write_images=True)\n",
        "history = model.fit(x_trn, y_trn,batch_size=256, epochs=100,verbose=0, validation_split=0.25,callbacks=[cb])\n",
        "\n",
        "# make prediction\n",
        "y_pred = model.predict_classes(x_tt)\n",
        "\n",
        "score = model.evaluate(x_tt, y_tt, verbose=0)\n",
        "\n",
        "print('Loss:', score[0])\n",
        "print('Accuracy:', score[1])\n",
        "print('Precision:', score[2])\n",
        "print('Recall:', score[3])"
      ],
      "execution_count": 0,
      "outputs": [
        {
          "output_type": "stream",
          "text": [
            "Using TensorFlow backend.\n"
          ],
          "name": "stderr"
        },
        {
          "output_type": "stream",
          "text": [
            "Model: \"sequential_1\"\n",
            "_________________________________________________________________\n",
            "Layer (type)                 Output Shape              Param #   \n",
            "=================================================================\n",
            "dense_1 (Dense)              (None, 1024)              14336     \n",
            "_________________________________________________________________\n",
            "activation_1 (Activation)    (None, 1024)              0         \n",
            "_________________________________________________________________\n",
            "dropout_1 (Dropout)          (None, 1024)              0         \n",
            "_________________________________________________________________\n",
            "dense_2 (Dense)              (None, 1024)              1049600   \n",
            "_________________________________________________________________\n",
            "activation_2 (Activation)    (None, 1024)              0         \n",
            "_________________________________________________________________\n",
            "dropout_2 (Dropout)          (None, 1024)              0         \n",
            "_________________________________________________________________\n",
            "dense_3 (Dense)              (None, 1024)              1049600   \n",
            "_________________________________________________________________\n",
            "activation_3 (Activation)    (None, 1024)              0         \n",
            "_________________________________________________________________\n",
            "dropout_3 (Dropout)          (None, 1024)              0         \n",
            "_________________________________________________________________\n",
            "dense_4 (Dense)              (None, 2)                 2050      \n",
            "_________________________________________________________________\n",
            "activation_4 (Activation)    (None, 2)                 0         \n",
            "=================================================================\n",
            "Total params: 2,115,586\n",
            "Trainable params: 2,115,586\n",
            "Non-trainable params: 0\n",
            "_________________________________________________________________\n",
            "tracking <tf.Variable 'Variable:0' shape=() dtype=int32, numpy=0> tp\n",
            "tracking <tf.Variable 'Variable:0' shape=() dtype=int32, numpy=0> fp\n",
            "tracking <tf.Variable 'Variable:0' shape=() dtype=int32, numpy=0> tp\n",
            "tracking <tf.Variable 'Variable:0' shape=() dtype=int32, numpy=0> fn\n"
          ],
          "name": "stdout"
        },
        {
          "output_type": "stream",
          "text": [
            "/usr/local/lib/python3.6/dist-packages/keras/callbacks/tensorboard_v2.py:92: UserWarning: The TensorBoard callback `batch_size` argument (for histogram computation) is deprecated with TensorFlow 2.0. It will be ignored.\n",
            "  warnings.warn('The TensorBoard callback `batch_size` argument '\n",
            "/usr/local/lib/python3.6/dist-packages/keras/callbacks/tensorboard_v2.py:97: UserWarning: The TensorBoard callback does not support gradients display when using TensorFlow 2.0. The `write_grads` argument is ignored.\n",
            "  warnings.warn('The TensorBoard callback does not support '\n"
          ],
          "name": "stderr"
        },
        {
          "output_type": "stream",
          "text": [
            "Loss: 0.8647511946527582\n",
            "Accuracy: 0.6447368264198303\n",
            "Precision: 1.0\n",
            "Recall: 0.28416427969932556\n"
          ],
          "name": "stdout"
        }
      ]
    },
    {
      "cell_type": "code",
      "metadata": {
        "id": "xKZ_TzDugPoG",
        "colab_type": "code",
        "outputId": "4d07bdfe-2b0d-4e14-f39e-71bc54f3026f",
        "colab": {
          "base_uri": "https://localhost:8080/",
          "height": 952
        }
      },
      "source": [
        "pip install keras_metrics"
      ],
      "execution_count": 0,
      "outputs": [
        {
          "output_type": "stream",
          "text": [
            "Traceback (most recent call last):\n",
            "  File \"<frozen importlib._bootstrap_external>\", line 88, in _path_is_mode_type\n",
            "  File \"<frozen importlib._bootstrap_external>\", line 82, in _path_stat\n",
            "FileNotFoundError: [Errno 2] No such file or directory: '/usr/local/lib/python3.6/dist-packages/mpl_toolkits/__init__.abi3.so'\n",
            "\n",
            "During handling of the above exception, another exception occurred:\n",
            "\n",
            "Traceback (most recent call last):\n",
            "  File \"<frozen importlib._bootstrap>\", line 971, in _find_and_load\n",
            "  File \"<frozen importlib._bootstrap>\", line 955, in _find_and_load_unlocked\n",
            "  File \"<frozen importlib._bootstrap>\", line 665, in _load_unlocked\n",
            "  File \"<frozen importlib._bootstrap_external>\", line 678, in exec_module\n",
            "  File \"<frozen importlib._bootstrap>\", line 219, in _call_with_frames_removed\n",
            "  File \"/usr/local/lib/python3.6/dist-packages/pip/_internal/utils/misc.py\", line 19, in <module>\n",
            "    from pip._vendor import pkg_resources\n",
            "  File \"/usr/local/lib/python3.6/dist-packages/pip/_vendor/pkg_resources/__init__.py\", line 3250, in <module>\n",
            "    @_call_aside\n",
            "  File \"/usr/local/lib/python3.6/dist-packages/pip/_vendor/pkg_resources/__init__.py\", line 3234, in _call_aside\n",
            "    f(*args, **kwargs)\n",
            "  File \"/usr/local/lib/python3.6/dist-packages/pip/_vendor/pkg_resources/__init__.py\", line 3278, in _initialize_master_working_set\n",
            "    for dist in working_set\n",
            "  File \"/usr/local/lib/python3.6/dist-packages/pip/_vendor/pkg_resources/__init__.py\", line 3278, in <genexpr>\n",
            "    for dist in working_set\n",
            "  File \"/usr/local/lib/python3.6/dist-packages/pip/_vendor/pkg_resources/__init__.py\", line 2782, in activate\n",
            "    fixup_namespace_packages(self.location)\n",
            "  File \"/usr/local/lib/python3.6/dist-packages/pip/_vendor/pkg_resources/__init__.py\", line 2295, in fixup_namespace_packages\n",
            "    subpath = _handle_ns(package, path_item)\n",
            "  File \"/usr/local/lib/python3.6/dist-packages/pip/_vendor/pkg_resources/__init__.py\", line 2201, in _handle_ns\n",
            "    loader = importer.find_module(packageName)\n",
            "  File \"<frozen importlib._bootstrap_external>\", line 423, in _find_module_shim\n",
            "  File \"<frozen importlib._bootstrap_external>\", line 1223, in find_loader\n",
            "  File \"<frozen importlib._bootstrap_external>\", line 1260, in find_spec\n",
            "  File \"<frozen importlib._bootstrap_external>\", line 96, in _path_isfile\n",
            "  File \"<frozen importlib._bootstrap_external>\", line 88, in _path_is_mode_type\n",
            "KeyboardInterrupt\n",
            "\n",
            "During handling of the above exception, another exception occurred:\n",
            "\n",
            "Traceback (most recent call last):\n",
            "  File \"/usr/local/bin/pip3\", line 5, in <module>\n",
            "    from pip._internal.main import main\n",
            "  File \"/usr/local/lib/python3.6/dist-packages/pip/_internal/main.py\", line 13, in <module>\n",
            "    from pip._internal.cli.autocompletion import autocomplete\n",
            "  File \"/usr/local/lib/python3.6/dist-packages/pip/_internal/cli/autocompletion.py\", line 11, in <module>\n",
            "    from pip._internal.cli.main_parser import create_main_parser\n",
            "  File \"/usr/local/lib/python3.6/dist-packages/pip/_internal/cli/main_parser.py\", line 7, in <module>\n",
            "    from pip._internal.cli import cmdoptions\n",
            "  File \"/usr/local/lib/python3.6/dist-packages/pip/_internal/cli/cmdoptions.py\", line 28, in <module>\n",
            "    from pip._internal.models.target_python import TargetPython\n",
            "  File \"/usr/local/lib/python3.6/dist-packages/pip/_internal/models/target_python.py\", line 4, in <module>\n",
            "    from pip._internal.utils.misc import normalize_version_info\n",
            "  File \"<frozen importlib._bootstrap>\", line 971, in _find_and_load\n",
            "  File \"<frozen importlib._bootstrap>\", line 152, in __exit__\n",
            "  File \"<frozen importlib._bootstrap>\", line 111, in release\n",
            "KeyboardInterrupt\n"
          ],
          "name": "stdout"
        }
      ]
    }
  ]
}